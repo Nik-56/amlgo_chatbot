{
 "cells": [
  {
   "cell_type": "code",
   "execution_count": 1,
   "metadata": {},
   "outputs": [
    {
     "name": "stderr",
     "output_type": "stream",
     "text": [
      "/Users/ishantkamboj/anaconda3/envs/development/lib/python3.10/site-packages/pinecone/data/index.py:1: TqdmWarning: IProgress not found. Please update jupyter and ipywidgets. See https://ipywidgets.readthedocs.io/en/stable/user_install.html\n",
      "  from tqdm.autonotebook import tqdm\n"
     ]
    }
   ],
   "source": [
    "from pinecone import Pinecone, ServerlessSpec\n",
    "import os\n",
    "import dotenv\n",
    "dotenv.load_dotenv()\n",
    "import pandas as pd\n",
    "import requests\n",
    "import json"
   ]
  },
  {
   "cell_type": "code",
   "execution_count": 2,
   "metadata": {},
   "outputs": [],
   "source": [
    "gemini_api_key = os.getenv('GEMINI_API_KEY')\n",
    "pinecone_api = os.getenv('PINECONE_API_KEY')\n",
    "index_name = os.getenv('PINECONE_INDEX_NAME')"
   ]
  },
  {
   "cell_type": "code",
   "execution_count": null,
   "metadata": {},
   "outputs": [],
   "source": [
    "from google import genai\n",
    "from google.genai import types\n",
    "\n",
    "client = genai.Client(api_key=gemini_api_key)"
   ]
  },
  {
   "cell_type": "code",
   "execution_count": null,
   "metadata": {},
   "outputs": [],
   "source": [
    "def get_embedding(user_input):\n",
    "    result = client.models.embed_content(\n",
    "    model=\"text-embedding-004\",\n",
    "    contents=user_input,\n",
    "    config=types.EmbedContentConfig(output_dimensionality=768),\n",
    "    )\n",
    "    values = result.embeddings[0].values\n",
    "    return values\n"
   ]
  },
  {
   "cell_type": "code",
   "execution_count": 5,
   "metadata": {},
   "outputs": [],
   "source": [
    "pc = Pinecone(api = pinecone_api)\n"
   ]
  },
  {
   "cell_type": "markdown",
   "metadata": {},
   "source": [
    "# trying embeddings"
   ]
  },
  {
   "cell_type": "code",
   "execution_count": 6,
   "metadata": {},
   "outputs": [
    {
     "name": "stdout",
     "output_type": "stream",
     "text": [
      "[-0.04860152, -0.034702502, -0.057613764, -0.027804255, -0.063004814, 0.0109969815, 0.013630775, 0.055198826, -0.0005110966, 0.06497508, -0.021059845, -0.014600874, 0.058970124, -0.032176983, -0.033848956, -0.05377753, -0.06540487, 0.010489974, -0.017473018, -0.035617243, 0.035842445, 0.036073335, -0.015176278, -0.027828649, -0.012233386, 0.011216728, 0.0063017323, 0.0042645335, 0.0014638172, -0.024745107, 0.033255354, 0.043358292, 0.0049319738, 0.031842817, -0.0023280238, 0.0013260462, -0.02509834, 0.015194871, -0.030408023, -0.059862256, -0.033109497, 0.022382341, -0.033533335, 0.029142674, 0.005424468, -0.045283087, 0.010341908, -0.060548056, 0.0034888086, 0.10062463, -0.014363857, -0.038134363, -0.075842075, 0.021946978, 0.042442255, 0.0004601971, -0.034194056, -0.066280775, 0.06079436, -0.05134312, -0.025084337, -0.011910327, 0.009015025, -0.0027222177, -0.010203241, -0.0008148636, 0.0071312236, 0.04308618, -0.039141763, 0.032861847, -0.017023949, -0.0030653651, -0.0513789, 0.03036364, -0.05069549, 0.013276643, -0.021700446, -0.03483331, -0.024857383, 0.03993777, 0.006960635, -0.007516598, 0.07771486, 0.03020063, 0.063604966, 0.04145069, 0.004924428, -0.007096518, -0.039112054, 0.025464002, 0.10858095, 0.01641992, 0.0028804583, 0.020245332, 0.06328344, 0.063738026, -0.11705597, -0.03309072, 0.04741162, 0.027009683, 0.055284467, -0.04583012, -0.016808018, -0.08553081, 0.011081967, -0.017347088, 0.0023424013, -0.0019076191, -0.0057148123, -0.029685337, -0.0045050248, -0.07703216, -0.018557154, -0.027292002, 0.011836867, 0.009870933, -0.016185816, -0.02416581, 0.009448002, -0.028476713, 0.035322323, -0.0018564392, -0.03038752, 0.035682432, 0.10923465, -0.025670806, 0.0015198645, -0.055788092, -0.03535868, -0.010413216, 0.0045388276, -0.02254781, -0.016180253, 0.056365114, -0.053782295, 0.0088054575, 0.042662177, 0.044875193, 0.007974103, -0.051601943, -0.0041694427, -0.030222127, 0.029477313, 0.022974817, -0.011822469, -0.0015055606, -0.0061173397, -0.022318538, -0.06287556, -0.016239433, -0.04971945, -0.03712697, 0.0589644, -0.075110875, -0.015256813, 0.008462589, 0.032313816, 0.0064802784, 0.045889188, -0.039736386, 0.03741321, -0.02612639, -0.050476287, 0.014269103, -0.04047047, -0.042413972, -0.018977838, 0.018234484, -0.005314493, 0.009154728, 0.0033425575, -0.040607136, -0.029627107, -0.015698874, -0.03891153, -0.028215017, -0.0049701636, 0.007007681, -0.013792028, -0.019057697, 0.0800357, -0.046542723, -0.031924143, -0.011934959, 0.034969755, -0.017225945, 0.053853605, 0.06890861, 0.035914868, 0.0161004, 0.0002632628, 0.035142973, -0.038591012, 0.011165959, -0.009682498, 0.0374815, 0.024196541, -0.024609065, 0.0015622771, 0.061517306, -0.059544764, 0.040342193, -0.013548172, 0.015567572, -0.038661968, 0.0136602875, -0.072428726, -0.09039726, 0.008343435, 0.046224162, -0.035764225, 0.00931296, -0.045224458, -0.057133485, -0.01887746, 0.03360415, 0.036635548, -0.026782623, 0.08364149, -0.054773204, 0.0070918226, -0.008225717, 0.045790233, -0.016729446, -0.009156675, -0.038052958, -0.0706727, -0.01265976, -0.0035026262, -0.0435344, 0.0068885274, -0.013066945, -0.013864917, -0.03555917, -0.011257745, 0.019262748, 0.038748633, -0.010634115, 0.008171975, -0.0007432317, 0.03193143, -0.08908963, 0.03989521, 0.018052462, 0.060362305, 0.022357615, 0.032600265, 0.07993761, 0.037454065, -0.028143242, -0.020199597, -0.003030694, -0.008762873, -0.0019644266, -0.028563907, 0.004612828, 0.035458285, -0.0012892871, 0.00074254005, -0.024603222, 0.10898154, -0.03872603, -0.052245367, -0.05851068, -0.038705584, -0.047017347, 0.029363235, 0.045710865, 0.025165007, 0.00058647426, 0.021112315, -0.058544137, -0.013894678, -0.0019110885, -0.048808686, 0.04504252, -0.0092798, 0.04790333, -0.017680032, -0.002316431, -0.0021320833, -0.030220076, -0.033794798, 0.033617813, 0.030182157, -0.020391107, 0.0049506193, -0.008076817, 0.022309102, -0.029846424, 0.0145386895, 0.003310449, -0.00208616, 0.008156583, -0.012288956, 0.0057649505, 0.009339397, 0.01811414, -0.040047295, -0.048652504, -0.034812067, 0.069829024, -0.06157246, 0.015895752, -0.008657832, 0.0124292215, 0.0059319544, -0.03142768, 0.0029594346, -0.03890675, -0.039331466, 0.025966043, 0.021765027, 0.025156362, -0.0426629, -0.03581185, -0.10793971, -0.010124079, -0.028133115, -0.020216396, 0.0011607447, 0.014116791, -0.036763653, 0.040364888, 0.07429568, -0.014032187, 0.035299167, 0.01015592, -0.004117705, -0.027483227, 0.0116906455, -0.05282195, 0.009722178, 0.010288333, -0.052107442, 0.034798983, -0.038938176, 0.032965757, 0.05091403, 0.024218367, 0.02370203, -0.017149981, 0.030462585, 0.0038122803, 0.01336561, -0.03856846, 0.0024004995, 0.027258558, 0.04842372, -0.05782659, 0.055908933, 0.006411448, 0.07148071, -0.035909604, 0.008046317, -0.024364261, 0.03233001, -0.0037355374, -0.015459414, -0.052249067, -0.03838061, 0.028263615, -0.05227196, -0.048693486, -0.019390143, -0.0035976723, -0.004022773, 0.06405883, 0.053935118, -0.022484908, 0.06268776, -0.0077777533, -0.038185045, -0.003243979, 0.037865512, -0.0051909047, -0.038014077, 0.014188085, 0.012239409, -0.046039972, 0.008172359, -0.03412062, -0.05953292, 0.024723792, 2.2836073e-06, 0.05796229, -0.018850703, 0.0017122169, -0.0040740673, 0.024915429, -0.025905244, 0.052493796, 0.0021004512, 0.035338804, -0.010429497, 0.03310774, 0.013290923, -0.00903962, -0.04923924, -0.010491876, 0.008178063, -0.044815864, 0.056340456, -0.04575903, 0.027448623, 0.0033043658, 0.055705424, -0.0035104218, 0.0061125136, -0.021053413, 0.005913666, 0.030224506, 0.0124547165, -0.0023084672, -0.05416222, 0.011590913, -0.029256241, -0.03458858, 0.029172761, 0.035749443, -0.019230202, 0.011553345, 0.029504538, -0.01311719, 0.02064015, -0.065205716, -0.016717033, 0.015420073, -0.011690613, -0.03438426, 0.07169959, 0.03629517, 0.014298167, -0.02033025, 0.00087427144, 0.0072770864, 0.009112891, 0.04641818, 0.006056917, 0.0014209618, -0.024001595, 0.004652687, 0.034901924, 0.037298977, -0.021261344, 0.04749881, 0.058053024, -0.025289943, -0.046067327, -0.012226893, 0.009703404, -0.00707475, -0.020032028, -0.037202947, 0.03834798, -0.012135447, 0.03518126, -0.0051759128, 0.0055949516, 0.08320649, -0.0023362988, 0.023786943, 0.03154789, 0.0030912813, 0.04649376, -0.07905085, -0.0364154, 0.023375107, -0.0003963028, 0.10105297, 0.027654054, 0.002631743, 0.024337113, 0.002396142, -0.04047466, 0.024653394, -0.0064239246, -0.021224998, -0.035151143, 0.06318766, -0.0051500127, 0.0021805183, 0.015555853, -0.0248227, 0.03610775, -0.005444434, -0.03994297, -0.023932502, 0.06247828, -0.018359773, 0.039410364, 0.058933675, 0.020865316, -0.005969167, -0.04216292, -0.007015277, 0.026779827, 0.01441024, -0.013793943, -0.014319304, 0.052885156, 0.027666345, -0.060191773, -0.028557435, 0.015046855, 0.015975295, -0.0020795243, -0.046360444, 0.03397702, -0.033376873, 0.06039046, 0.042783737, 0.046358474, 0.061138004, 0.017473282, 0.037736554, -0.0065863896, 0.010107011, -0.021228675, 0.045078598, 0.0070805815, -0.0630354, 0.011261799, -0.07694028, -0.00688787, 0.012538292, 0.005151777, 0.0031376171, 0.01325478, -0.012853793, 0.02243097, 0.029717157, 0.060365275, 0.00085766165, 0.029686186, 0.07309225, -0.005114378, 0.009597389, 0.036075234, 0.013529316, 0.0540036, -0.02735373, 0.04339329, 0.02446059, -0.0313942, -0.012199298, -0.035886988, 0.046323825, -0.0100396965, 0.043764196, -0.008863714, -0.001694731, -0.053731404, -0.03605213, -0.011789813, -0.08706574, 0.045488495, -0.010662516, -0.04307863, 0.004059801, 0.014604069, -0.038424354, -0.027997961, -0.003625948, 0.032920547, 0.022242457, 0.04168935, 0.03248991, 0.049134634, 0.017498745, 0.02654925, 0.019638121, 0.023441348, 0.00878915, 0.04057151, 0.037610356, -0.08365478, -0.029195793, 0.0012135956, -0.020337533, -0.0053089354, -0.003460285, 0.054178655, 0.022125125, -0.009895654, -0.013913269, 0.05158007, -0.02991959, 0.0381813, -0.032980286, 0.028351536, -0.004089845, 0.02193355, -0.05616158, -0.011416177, 0.033432472, -0.0064095287, 0.049851283, 0.04235269, 0.026633136, -0.028468909, -0.025316514, -0.0036275706, 0.0035365322, 0.008573308, -0.046851177, -0.013110386, -0.030625498, 0.017019868, 0.0035993624, 0.027576277, 0.0114012165, -0.03489521, -0.037296034, -0.024053425, 0.039558854, -0.020692797, 0.0099147, 0.0754654, 0.009892044, 0.0071685705, 0.032360133, 0.07439914, 0.030790195, -0.104104705, 0.033325758, -0.008133395, 0.04487281, 0.007836234, 0.021319514, -0.03769562, -0.019037588, -0.010347211, -0.014841474, -0.0072302953, -0.0035994952, -0.04583881, 0.033374265, -0.002819791, 0.010044932, 0.0058728396, 0.024353564, 0.018026626, 0.06409096, -0.039077133, 0.05622185, 0.0014816446, -0.020037943, -0.014648376, 0.05565105, -0.042293407, -0.004915679, -0.026271718, 0.03472025, 0.0073718266, 0.008726556, -0.059825312, -0.08465589, 0.05093721, 0.0075031077, 0.059241485, 0.013195934, 0.027172083, 0.008563745, -0.049390383, 0.015709467, -0.035898235, -0.0032557333, -0.0007197227, -0.00022276481, -0.031795897, 0.02288617, 0.016189227, -0.016339652, -0.018469576, 0.027061194, 0.01695849, -0.06668112, -0.028824372, 0.022594826, 0.009942259, -0.051185433, 0.03618644, -0.049476694, -0.051208742, -0.029453808, 0.09486191, -0.020621778, 0.0073515032, 0.024301957, -0.0014810804, -0.021447118, -0.0802275, -0.030297361, 0.014371442, 0.020908304, -0.051977348, 0.023658771, 0.034091316, -0.098220214, 0.015617785, -0.040694416, -0.051766716, -0.013318734, 0.06731305, 0.0010718489, -0.0004880583, 0.009427953, -0.07826561, -0.014388296, -0.009204111, -0.043122157, 0.093773894, 0.051192746, 0.029040093, 0.018567616, -0.008388071, -0.0020568804, 0.031100644, -0.017159265, 0.0019464233, -0.047641702, 0.003893147, 0.032491427, 0.05146216, 0.015531888, -0.013761436, 0.028855331, -0.060302764, 0.036001004, 0.09735271, 0.016941534, -0.0029126538, 0.023233183, -0.02766922, -0.010324509, 0.0008211546, -0.046032276, 0.0425064, -0.0018997997, 0.0035839675, -0.025310438, -0.017739488, 0.0096558165, -0.010951339, -0.0450735, -0.03827394, -0.049787413, -0.030048717, -0.035524566, -0.06788251, 0.014159341, -0.0124475155, 0.023194978, 0.019855669, -0.011384968, -0.015865708, 0.00891263, 0.026750388, 0.052840136, -0.014640876, 0.034414906, -0.044281702, -0.010560005, -0.034294512, 0.025179438, 0.034122642, 0.0009695664]\n"
     ]
    }
   ],
   "source": [
    "output = get_embedding(\"This is life\")\n",
    "print(output)"
   ]
  },
  {
   "cell_type": "code",
   "execution_count": 7,
   "metadata": {},
   "outputs": [
    {
     "data": {
      "text/plain": [
       "768"
      ]
     },
     "execution_count": 7,
     "metadata": {},
     "output_type": "execute_result"
    }
   ],
   "source": [
    "len(output)"
   ]
  },
  {
   "cell_type": "markdown",
   "metadata": {},
   "source": [
    "# wrangle dataset"
   ]
  },
  {
   "cell_type": "code",
   "execution_count": 8,
   "metadata": {},
   "outputs": [],
   "source": [
    "import json\n",
    "file_path = 'chunks.json'\n",
    "with open(file_path, 'r') as file:\n",
    "    texts = json.load(file)"
   ]
  },
  {
   "cell_type": "code",
   "execution_count": 9,
   "metadata": {},
   "outputs": [
    {
     "name": "stdout",
     "output_type": "stream",
     "text": [
      "It also contains an Agreement to Arbitrate which will, with limited exception, require you to submit claims you have against us or related third parties to binding and final arbitration, unless you opt out of the Agreement to Arbitrate in accordance with section 19.B.9 (see Legal Disputes, Section B (\"Agreement to Arbitrate\")). If you do not opt out: (1) you will only be permitted to pursue claims against us or related third parties on an individual basis, not as a plaintiff or class member in any class or representative action or proceeding; (2) you will only be permitted to seek relief (including monetary, injunctive, and declaratory relief) on an individual basis; and (3) you are waiving your right to pursue disputes or claims and seek relief in a court of law and to have a jury trial. 2. About eBay eBay is a marketplace that allows users to offer, sell, and buy goods and services in various geographic locations using a variety of pricing formats. eBay is not a party to contracts for sale between third-party sellers and buyers, nor is eBay a traditional auctioneer. Any guidance eBay provides as part of our Services, such as pricing, shipping, listing, and sourcing is solely informational and you may decide to follow it or not. We may use artificial intelligence or AI- powered tools and products to provide and improve our Services, to offer you a customized and personalized experience, to provide you with enhanced customer service, and to support fraud detection; availability and accuracy of these tools are not guaranteed. We may help facilitate the resolution of disputes between buyers and sellers through various programs.\n"
     ]
    }
   ],
   "source": [
    "print(texts[1])"
   ]
  },
  {
   "cell_type": "code",
   "execution_count": 10,
   "metadata": {},
   "outputs": [],
   "source": [
    "embeddings=[]\n",
    "for i in texts:\n",
    "    output = get_embedding(i)\n",
    "    embeddings.append(output)\n"
   ]
  },
  {
   "cell_type": "code",
   "execution_count": 11,
   "metadata": {},
   "outputs": [
    {
     "data": {
      "text/plain": [
       "768"
      ]
     },
     "execution_count": 11,
     "metadata": {},
     "output_type": "execute_result"
    }
   ],
   "source": [
    "len(embeddings[1])"
   ]
  },
  {
   "cell_type": "markdown",
   "metadata": {},
   "source": [
    "# pushing data to vector database"
   ]
  },
  {
   "cell_type": "code",
   "execution_count": 12,
   "metadata": {},
   "outputs": [],
   "source": [
    "pc.create_index(\n",
    "    name = index_name,\n",
    "    dimension = 768,\n",
    "    metric = \"cosine\",\n",
    "    spec = ServerlessSpec(\n",
    "        cloud = 'aws',\n",
    "        region = 'us-east-1',\n",
    "    )\n",
    ")"
   ]
  },
  {
   "cell_type": "code",
   "execution_count": 13,
   "metadata": {},
   "outputs": [
    {
     "data": {
      "text/plain": [
       "{'upserted_count': 41}"
      ]
     },
     "execution_count": 13,
     "metadata": {},
     "output_type": "execute_result"
    }
   ],
   "source": [
    "import time\n",
    "while not pc.describe_index(index_name).status.ready:\n",
    "    print(\"index is not ready\")\n",
    "    time.sleep(1)\n",
    "\n",
    "index = pc.Index(index_name)\n",
    "vectors = []\n",
    "for i, (text, e) in enumerate(zip(texts, embeddings)):\n",
    "    entry_id = f\"doc-{i}\"\n",
    "    vectors.append({\n",
    "        \"id\": entry_id,\n",
    "        \"values\": e,\n",
    "        \"metadata\": {\"text\": text}\n",
    "    })\n",
    "index.upsert(vectors=vectors,\n",
    "             namespace = 'ns1')"
   ]
  },
  {
   "cell_type": "markdown",
   "metadata": {},
   "source": [
    "# get closest documents"
   ]
  },
  {
   "cell_type": "code",
   "execution_count": 14,
   "metadata": {},
   "outputs": [],
   "source": [
    "output = get_embedding(\"Is ebay a car broker?\")\n",
    "embedding = output"
   ]
  },
  {
   "cell_type": "code",
   "execution_count": 15,
   "metadata": {},
   "outputs": [],
   "source": [
    "results = index.query(\n",
    "    namespace = 'ns1',\n",
    "    vector = embedding,\n",
    "    top_k = 2,\n",
    "    include_values = False,\n",
    "    include_metadata = True\n",
    ")"
   ]
  },
  {
   "cell_type": "code",
   "execution_count": 16,
   "metadata": {},
   "outputs": [
    {
     "data": {
      "text/plain": [
       "{'matches': [{'id': 'doc-6',\n",
       "              'metadata': {'text': 'eBay has never: (1) held title for any '\n",
       "                                   'vehicle listed on eBay sites; (2) '\n",
       "                                   'inspected any vehicle listed on eBay '\n",
       "                                   'sites; (3) set or negotiated prices for '\n",
       "                                   'any vehicle listed on eBay sites; (4) had '\n",
       "                                   'any vehicle listed on eBay sites in its '\n",
       "                                   'possession; (5) shipped, distributed, or '\n",
       "                                   'delivered any vehicle listed on eBay '\n",
       "                                   'sites; or (6) sold a vehicle listed on '\n",
       "                                   'eBay sites by consignment. IN ADDITION TO, '\n",
       "                                   'AND WITHOUT LIMITING THE GENERALITY OF THE '\n",
       "                                   'DISCLAIMERS OF WARRANTIES DETAILED IN '\n",
       "                                   'SECTION 16, YOU AGREE THAT: (A) EBAY DOES '\n",
       "                                   'NOT WARRANT AGAINST DEFECTS IN ANY '\n",
       "                                   'VEHICLE, AND DOES NOT MAKE ANY WARRANTY OF '\n",
       "                                   'ANY KIND, EITHER EXPRESS OR IMPLIED, '\n",
       "                                   'INCLUDING REPRESENTATIONS, PROMISES, OR '\n",
       "                                   'STATEMENTS AS TO THE VEHICLE’S VALUE, '\n",
       "                                   'CONDITION, SAFETY, CAPABILITY, FITNESS, OR '\n",
       "                                   'MERCHANTABILITY, (B) NO INFORMATION '\n",
       "                                   'OBTAINED ON EBAY SITES WILL CREATE ANY '\n",
       "                                   'WARRANTY, EXPRESS OR IMPLIED, (C) YOU HAVE '\n",
       "                                   'NOT AND WILL NOT RELY UPON ANY '\n",
       "                                   'REPRESENTATION AS TO THE VEHICLE’S VALUE, '\n",
       "                                   'CONDITION, SAFETY, CAPABILITY, FITNESS, OR '\n",
       "                                   'MERCHANTABILITY, AS COMING FROM EBAY, AND '\n",
       "                                   '(D) EBAY MAKES NO WARRANTY CONCERNING ANY '\n",
       "                                   'VEHICLE’S TITLE. EBAY DISCLAIMS ALL '\n",
       "                                   'VEHICLE-RELATED REPRESENTATIONS, '\n",
       "                                   'GUARANTEES, AND WARRANTIES TO THE FULLEST '\n",
       "                                   'EXTENT PERMISSIBLE BY LAW. You agree that '\n",
       "                                   'any reliance on vehicle information on '\n",
       "                                   'eBay sites is at your own risk. Any '\n",
       "                                   'discrepancies or mistakes made regarding '\n",
       "                                   'vehicle availability, quality, safety, '\n",
       "                                   'condition, pricing, financing, insurance '\n",
       "                                   'and the like are not the fault or '\n",
       "                                   'responsibility of eBay. Neither the '\n",
       "                                   'accuracy of vehicle information provided '\n",
       "                                   'on eBay.com, nor the availability, '\n",
       "                                   'quality, or safety of vehicles is '\n",
       "                                   'guaranteed by eBay. Furthermore, neither '\n",
       "                                   'the financing of or insurance relevant to '\n",
       "                                   'vehicles is controlled or guaranteed by '\n",
       "                                   'eBay.'},\n",
       "              'score': 0.700189412,\n",
       "              'values': []},\n",
       "             {'id': 'doc-5',\n",
       "              'metadata': {'text': 'Also, as provided below in the Fees and '\n",
       "                                   'Taxes section, if we believe you are '\n",
       "                                   'violating our policy on buying or selling '\n",
       "                                   'outside of eBay, you may be charged final '\n",
       "                                   'value fees. We may cancel unconfirmed '\n",
       "                                   'accounts or accounts that have been '\n",
       "                                   'inactive for a substantial period of time. '\n",
       "                                   'Additionally, we reserve the right to '\n",
       "                                   'refuse, modify, or terminate all or part '\n",
       "                                   'of our Services to anyone for any reason '\n",
       "                                   'at our discretion. 4. Vehicle Purchases & '\n",
       "                                   'Sales As it relates to vehicle listings, '\n",
       "                                   'eBay Secure Checkout is powered by and '\n",
       "                                   'made possible by the services of Caramel '\n",
       "                                   'Dealer Services, LLC. As such, when you '\n",
       "                                   'use eBay Secure Checkout to purchase or '\n",
       "                                   'sell a vehicle listed on eBay sites, you '\n",
       "                                   'are contracting with Caramel Dealer '\n",
       "                                   'Services, LLC d/b/a CDS Auto Sales '\n",
       "                                   '(“Caramel”). Caramel is an eBay affiliate '\n",
       "                                   'that holds state licenses as a used '\n",
       "                                   'vehicle dealer in Arizona, California, '\n",
       "                                   'Florida, and Texas. Caramel’s Terms of '\n",
       "                                   'Use, Privacy Policy, and additional '\n",
       "                                   'policies and terms posted on and in its '\n",
       "                                   'sites, applications, tools, and services '\n",
       "                                   'set forth the terms under which you may '\n",
       "                                   'access and use Caramel Services. For '\n",
       "                                   'additional information, you should review '\n",
       "                                   'the Frequently Asked Questions page for '\n",
       "                                   'eBay Secure Checkout. eBay is not a '\n",
       "                                   'vehicle broker, vehicle dealer, or an '\n",
       "                                   'agent acting on behalf of vehicle brokers, '\n",
       "                                   'dealers, buyers or sellers. eBay does not '\n",
       "                                   'maintain an inventory of vehicles for sale '\n",
       "                                   'and does not sell, exchange, buy, offer '\n",
       "                                   'for sale, negotiate or attempt to '\n",
       "                                   'negotiate sales or exchanges of an '\n",
       "                                   'interest in any vehicle listed on eBay '\n",
       "                                   'sites.'},\n",
       "              'score': 0.69981277,\n",
       "              'values': []}],\n",
       " 'namespace': 'ns1',\n",
       " 'usage': {'read_units': 1}}"
      ]
     },
     "execution_count": 16,
     "metadata": {},
     "output_type": "execute_result"
    }
   ],
   "source": [
    "results"
   ]
  }
 ],
 "metadata": {
  "kernelspec": {
   "display_name": "development",
   "language": "python",
   "name": "python3"
  },
  "language_info": {
   "codemirror_mode": {
    "name": "ipython",
    "version": 3
   },
   "file_extension": ".py",
   "mimetype": "text/x-python",
   "name": "python",
   "nbconvert_exporter": "python",
   "pygments_lexer": "ipython3",
   "version": "3.10.16"
  }
 },
 "nbformat": 4,
 "nbformat_minor": 2
}
